{
 "cells": [
  {
   "cell_type": "markdown",
   "id": "52a28a0d",
   "metadata": {
    "papermill": {
     "duration": 0.005327,
     "end_time": "2025-03-06T21:50:41.899670",
     "exception": false,
     "start_time": "2025-03-06T21:50:41.894343",
     "status": "completed"
    },
    "tags": []
   },
   "source": [
    "**This notebook is an exercise in the [Introduction to Machine Learning](https://www.kaggle.com/learn/intro-to-machine-learning) course.  You can reference the tutorial at [this link](https://www.kaggle.com/dansbecker/your-first-machine-learning-model).**\n",
    "\n",
    "---\n"
   ]
  },
  {
   "cell_type": "markdown",
   "id": "80e48f7d",
   "metadata": {
    "papermill": {
     "duration": 0.004121,
     "end_time": "2025-03-06T21:50:41.908531",
     "exception": false,
     "start_time": "2025-03-06T21:50:41.904410",
     "status": "completed"
    },
    "tags": []
   },
   "source": [
    "## Recap\n",
    "So far, you have loaded your data and reviewed it with the following code. Run this cell to set up your coding environment where the previous step left off."
   ]
  },
  {
   "cell_type": "code",
   "execution_count": 1,
   "id": "f33668d2",
   "metadata": {
    "execution": {
     "iopub.execute_input": "2025-03-06T21:50:41.919064Z",
     "iopub.status.busy": "2025-03-06T21:50:41.918642Z",
     "iopub.status.idle": "2025-03-06T21:50:45.355219Z",
     "shell.execute_reply": "2025-03-06T21:50:45.353752Z"
    },
    "papermill": {
     "duration": 3.444161,
     "end_time": "2025-03-06T21:50:45.357251",
     "exception": false,
     "start_time": "2025-03-06T21:50:41.913090",
     "status": "completed"
    },
    "tags": []
   },
   "outputs": [
    {
     "name": "stdout",
     "output_type": "stream",
     "text": [
      "Setup Complete\n"
     ]
    }
   ],
   "source": [
    "# Code you have previously used to load data\n",
    "import pandas as pd\n",
    "\n",
    "# Path of the file to read\n",
    "iowa_file_path = '../input/home-data-for-ml-course/train.csv'\n",
    "\n",
    "home_data = pd.read_csv(iowa_file_path)\n",
    "\n",
    "# Set up code checking\n",
    "from learntools.core import binder\n",
    "binder.bind(globals())\n",
    "from learntools.machine_learning.ex3 import *\n",
    "\n",
    "print(\"Setup Complete\")"
   ]
  },
  {
   "cell_type": "markdown",
   "id": "01b3af14",
   "metadata": {
    "papermill": {
     "duration": 0.00428,
     "end_time": "2025-03-06T21:50:45.366232",
     "exception": false,
     "start_time": "2025-03-06T21:50:45.361952",
     "status": "completed"
    },
    "tags": []
   },
   "source": [
    "# Exercises\n",
    "\n",
    "## Step 1: Specify Prediction Target\n",
    "Select the target variable, which corresponds to the sales price. Save this to a new variable called `y`. You'll need to print a list of the columns to find the name of the column you need.\n"
   ]
  },
  {
   "cell_type": "code",
   "execution_count": 2,
   "id": "9135d45b",
   "metadata": {
    "execution": {
     "iopub.execute_input": "2025-03-06T21:50:45.376768Z",
     "iopub.status.busy": "2025-03-06T21:50:45.376251Z",
     "iopub.status.idle": "2025-03-06T21:50:45.380545Z",
     "shell.execute_reply": "2025-03-06T21:50:45.379330Z"
    },
    "papermill": {
     "duration": 0.011608,
     "end_time": "2025-03-06T21:50:45.382346",
     "exception": false,
     "start_time": "2025-03-06T21:50:45.370738",
     "status": "completed"
    },
    "tags": []
   },
   "outputs": [],
   "source": [
    "# print the list of columns in the dataset to find the name of the prediction target\n",
    "#home_data.head()\n"
   ]
  },
  {
   "cell_type": "code",
   "execution_count": null,
   "id": "7411c874",
   "metadata": {
    "papermill": {
     "duration": 0.004304,
     "end_time": "2025-03-06T21:50:45.391536",
     "exception": false,
     "start_time": "2025-03-06T21:50:45.387232",
     "status": "completed"
    },
    "tags": []
   },
   "outputs": [],
   "source": []
  },
  {
   "cell_type": "code",
   "execution_count": 3,
   "id": "47df3574",
   "metadata": {
    "execution": {
     "iopub.execute_input": "2025-03-06T21:50:45.402040Z",
     "iopub.status.busy": "2025-03-06T21:50:45.401670Z",
     "iopub.status.idle": "2025-03-06T21:50:45.416876Z",
     "shell.execute_reply": "2025-03-06T21:50:45.415675Z"
    },
    "papermill": {
     "duration": 0.022896,
     "end_time": "2025-03-06T21:50:45.418936",
     "exception": false,
     "start_time": "2025-03-06T21:50:45.396040",
     "status": "completed"
    },
    "tags": []
   },
   "outputs": [
    {
     "data": {
      "application/javascript": [
       "parent.postMessage({\"jupyterEvent\": \"custom.exercise_interaction\", \"data\": {\"outcomeType\": 1, \"valueTowardsCompletion\": 0.25, \"interactionType\": 1, \"questionType\": 2, \"questionId\": \"1_SetTarget\", \"learnToolsVersion\": \"0.3.4\", \"failureMessage\": \"\", \"exceptionClass\": \"\", \"trace\": \"\"}}, \"*\")"
      ],
      "text/plain": [
       "<IPython.core.display.Javascript object>"
      ]
     },
     "metadata": {},
     "output_type": "display_data"
    },
    {
     "data": {
      "text/markdown": [
       "<span style=\"color:#33cc33\">Correct</span>"
      ],
      "text/plain": [
       "Correct"
      ]
     },
     "metadata": {},
     "output_type": "display_data"
    }
   ],
   "source": [
    "y = home_data.SalePrice\n",
    "\n",
    "# Check your answer\n",
    "step_1.check()"
   ]
  },
  {
   "cell_type": "code",
   "execution_count": 4,
   "id": "66ce226f",
   "metadata": {
    "collapsed": true,
    "execution": {
     "iopub.execute_input": "2025-03-06T21:50:45.430161Z",
     "iopub.status.busy": "2025-03-06T21:50:45.429781Z",
     "iopub.status.idle": "2025-03-06T21:50:45.433740Z",
     "shell.execute_reply": "2025-03-06T21:50:45.432718Z"
    },
    "jupyter": {
     "outputs_hidden": true
    },
    "papermill": {
     "duration": 0.011396,
     "end_time": "2025-03-06T21:50:45.435371",
     "exception": false,
     "start_time": "2025-03-06T21:50:45.423975",
     "status": "completed"
    },
    "tags": []
   },
   "outputs": [],
   "source": [
    "# The lines below will show you a hint or the solution.\n",
    "# step_1.hint() \n",
    "# step_1.solution()"
   ]
  },
  {
   "cell_type": "markdown",
   "id": "f05d38c3",
   "metadata": {
    "papermill": {
     "duration": 0.004328,
     "end_time": "2025-03-06T21:50:45.444859",
     "exception": false,
     "start_time": "2025-03-06T21:50:45.440531",
     "status": "completed"
    },
    "tags": []
   },
   "source": [
    "## Step 2: Create X\n",
    "Now you will create a DataFrame called `X` holding the predictive features.\n",
    "\n",
    "Since you want only some columns from the original data, you'll first create a list with the names of the columns you want in `X`.\n",
    "\n",
    "You'll use just the following columns in the list (you can copy and paste the whole list to save some typing, though you'll still need to add quotes):\n",
    "  * LotArea\n",
    "  * YearBuilt\n",
    "  * 1stFlrSF\n",
    "  * 2ndFlrSF\n",
    "  * FullBath\n",
    "  * BedroomAbvGr\n",
    "  * TotRmsAbvGrd\n",
    "\n",
    "After you've created that list of features, use it to create the DataFrame that you'll use to fit the model."
   ]
  },
  {
   "cell_type": "code",
   "execution_count": 5,
   "id": "19c04e8a",
   "metadata": {
    "execution": {
     "iopub.execute_input": "2025-03-06T21:50:45.455742Z",
     "iopub.status.busy": "2025-03-06T21:50:45.455323Z",
     "iopub.status.idle": "2025-03-06T21:50:45.468325Z",
     "shell.execute_reply": "2025-03-06T21:50:45.467183Z"
    },
    "papermill": {
     "duration": 0.020761,
     "end_time": "2025-03-06T21:50:45.470363",
     "exception": false,
     "start_time": "2025-03-06T21:50:45.449602",
     "status": "completed"
    },
    "tags": []
   },
   "outputs": [
    {
     "data": {
      "application/javascript": [
       "parent.postMessage({\"jupyterEvent\": \"custom.exercise_interaction\", \"data\": {\"outcomeType\": 1, \"valueTowardsCompletion\": 0.25, \"interactionType\": 1, \"questionType\": 2, \"questionId\": \"2_SelectPredictionData\", \"learnToolsVersion\": \"0.3.4\", \"failureMessage\": \"\", \"exceptionClass\": \"\", \"trace\": \"\"}}, \"*\")"
      ],
      "text/plain": [
       "<IPython.core.display.Javascript object>"
      ]
     },
     "metadata": {},
     "output_type": "display_data"
    },
    {
     "data": {
      "text/markdown": [
       "<span style=\"color:#33cc33\">Correct</span>"
      ],
      "text/plain": [
       "Correct"
      ]
     },
     "metadata": {},
     "output_type": "display_data"
    }
   ],
   "source": [
    "# Create the list of features below\n",
    "feature_names = [\"LotArea\", \"YearBuilt\", \"1stFlrSF\",\"2ndFlrSF\", \"FullBath\", \"BedroomAbvGr\", \"TotRmsAbvGrd\"]\n",
    "\n",
    "# Select data corresponding to features in feature_names\n",
    "X = home_data[feature_names]\n",
    "\n",
    "# Check your answer\n",
    "step_2.check()"
   ]
  },
  {
   "cell_type": "code",
   "execution_count": 6,
   "id": "caedcac6",
   "metadata": {
    "collapsed": true,
    "execution": {
     "iopub.execute_input": "2025-03-06T21:50:45.482443Z",
     "iopub.status.busy": "2025-03-06T21:50:45.481986Z",
     "iopub.status.idle": "2025-03-06T21:50:45.486128Z",
     "shell.execute_reply": "2025-03-06T21:50:45.484738Z"
    },
    "jupyter": {
     "outputs_hidden": true
    },
    "papermill": {
     "duration": 0.011955,
     "end_time": "2025-03-06T21:50:45.487929",
     "exception": false,
     "start_time": "2025-03-06T21:50:45.475974",
     "status": "completed"
    },
    "tags": []
   },
   "outputs": [],
   "source": [
    "# step_2.hint()\n",
    "# step_2.solution()"
   ]
  },
  {
   "cell_type": "markdown",
   "id": "4b364277",
   "metadata": {
    "papermill": {
     "duration": 0.004955,
     "end_time": "2025-03-06T21:50:45.498317",
     "exception": false,
     "start_time": "2025-03-06T21:50:45.493362",
     "status": "completed"
    },
    "tags": []
   },
   "source": [
    "## Review Data\n",
    "Before building a model, take a quick look at **X** to verify it looks sensible"
   ]
  },
  {
   "cell_type": "code",
   "execution_count": 7,
   "id": "2ca7f097",
   "metadata": {
    "execution": {
     "iopub.execute_input": "2025-03-06T21:50:45.510019Z",
     "iopub.status.busy": "2025-03-06T21:50:45.509572Z",
     "iopub.status.idle": "2025-03-06T21:50:45.557251Z",
     "shell.execute_reply": "2025-03-06T21:50:45.556003Z"
    },
    "papermill": {
     "duration": 0.055683,
     "end_time": "2025-03-06T21:50:45.559139",
     "exception": false,
     "start_time": "2025-03-06T21:50:45.503456",
     "status": "completed"
    },
    "tags": []
   },
   "outputs": [
    {
     "data": {
      "text/html": [
       "<div>\n",
       "<style scoped>\n",
       "    .dataframe tbody tr th:only-of-type {\n",
       "        vertical-align: middle;\n",
       "    }\n",
       "\n",
       "    .dataframe tbody tr th {\n",
       "        vertical-align: top;\n",
       "    }\n",
       "\n",
       "    .dataframe thead th {\n",
       "        text-align: right;\n",
       "    }\n",
       "</style>\n",
       "<table border=\"1\" class=\"dataframe\">\n",
       "  <thead>\n",
       "    <tr style=\"text-align: right;\">\n",
       "      <th></th>\n",
       "      <th>LotArea</th>\n",
       "      <th>YearBuilt</th>\n",
       "      <th>1stFlrSF</th>\n",
       "      <th>2ndFlrSF</th>\n",
       "      <th>FullBath</th>\n",
       "      <th>BedroomAbvGr</th>\n",
       "      <th>TotRmsAbvGrd</th>\n",
       "    </tr>\n",
       "  </thead>\n",
       "  <tbody>\n",
       "    <tr>\n",
       "      <th>count</th>\n",
       "      <td>1460.000000</td>\n",
       "      <td>1460.000000</td>\n",
       "      <td>1460.000000</td>\n",
       "      <td>1460.000000</td>\n",
       "      <td>1460.000000</td>\n",
       "      <td>1460.000000</td>\n",
       "      <td>1460.000000</td>\n",
       "    </tr>\n",
       "    <tr>\n",
       "      <th>mean</th>\n",
       "      <td>10516.828082</td>\n",
       "      <td>1971.267808</td>\n",
       "      <td>1162.626712</td>\n",
       "      <td>346.992466</td>\n",
       "      <td>1.565068</td>\n",
       "      <td>2.866438</td>\n",
       "      <td>6.517808</td>\n",
       "    </tr>\n",
       "    <tr>\n",
       "      <th>std</th>\n",
       "      <td>9981.264932</td>\n",
       "      <td>30.202904</td>\n",
       "      <td>386.587738</td>\n",
       "      <td>436.528436</td>\n",
       "      <td>0.550916</td>\n",
       "      <td>0.815778</td>\n",
       "      <td>1.625393</td>\n",
       "    </tr>\n",
       "    <tr>\n",
       "      <th>min</th>\n",
       "      <td>1300.000000</td>\n",
       "      <td>1872.000000</td>\n",
       "      <td>334.000000</td>\n",
       "      <td>0.000000</td>\n",
       "      <td>0.000000</td>\n",
       "      <td>0.000000</td>\n",
       "      <td>2.000000</td>\n",
       "    </tr>\n",
       "    <tr>\n",
       "      <th>25%</th>\n",
       "      <td>7553.500000</td>\n",
       "      <td>1954.000000</td>\n",
       "      <td>882.000000</td>\n",
       "      <td>0.000000</td>\n",
       "      <td>1.000000</td>\n",
       "      <td>2.000000</td>\n",
       "      <td>5.000000</td>\n",
       "    </tr>\n",
       "  </tbody>\n",
       "</table>\n",
       "</div>"
      ],
      "text/plain": [
       "            LotArea    YearBuilt     1stFlrSF     2ndFlrSF     FullBath  \\\n",
       "count   1460.000000  1460.000000  1460.000000  1460.000000  1460.000000   \n",
       "mean   10516.828082  1971.267808  1162.626712   346.992466     1.565068   \n",
       "std     9981.264932    30.202904   386.587738   436.528436     0.550916   \n",
       "min     1300.000000  1872.000000   334.000000     0.000000     0.000000   \n",
       "25%     7553.500000  1954.000000   882.000000     0.000000     1.000000   \n",
       "\n",
       "       BedroomAbvGr  TotRmsAbvGrd  \n",
       "count   1460.000000   1460.000000  \n",
       "mean       2.866438      6.517808  \n",
       "std        0.815778      1.625393  \n",
       "min        0.000000      2.000000  \n",
       "25%        2.000000      5.000000  "
      ]
     },
     "execution_count": 7,
     "metadata": {},
     "output_type": "execute_result"
    }
   ],
   "source": [
    "# Review data\n",
    "# print description or statistics from X\n",
    "X.describe().head()\n",
    "# print the top few lines\n"
   ]
  },
  {
   "cell_type": "markdown",
   "id": "5f4af7e8",
   "metadata": {
    "papermill": {
     "duration": 0.00496,
     "end_time": "2025-03-06T21:50:45.569501",
     "exception": false,
     "start_time": "2025-03-06T21:50:45.564541",
     "status": "completed"
    },
    "tags": []
   },
   "source": [
    "## Step 3: Specify and Fit Model\n",
    "Create a `DecisionTreeRegressor` and save it iowa_model. Ensure you've done the relevant import from sklearn to run this command.\n",
    "\n",
    "Then fit the model you just created using the data in `X` and `y` that you saved above."
   ]
  },
  {
   "cell_type": "code",
   "execution_count": 8,
   "id": "035844b5",
   "metadata": {
    "execution": {
     "iopub.execute_input": "2025-03-06T21:50:45.582252Z",
     "iopub.status.busy": "2025-03-06T21:50:45.581872Z",
     "iopub.status.idle": "2025-03-06T21:50:45.601643Z",
     "shell.execute_reply": "2025-03-06T21:50:45.600146Z"
    },
    "papermill": {
     "duration": 0.028143,
     "end_time": "2025-03-06T21:50:45.603401",
     "exception": false,
     "start_time": "2025-03-06T21:50:45.575258",
     "status": "completed"
    },
    "tags": []
   },
   "outputs": [
    {
     "data": {
      "application/javascript": [
       "parent.postMessage({\"jupyterEvent\": \"custom.exercise_interaction\", \"data\": {\"outcomeType\": 1, \"valueTowardsCompletion\": 0.25, \"interactionType\": 1, \"questionType\": 2, \"questionId\": \"3_CreateModel\", \"learnToolsVersion\": \"0.3.4\", \"failureMessage\": \"\", \"exceptionClass\": \"\", \"trace\": \"\"}}, \"*\")"
      ],
      "text/plain": [
       "<IPython.core.display.Javascript object>"
      ]
     },
     "metadata": {},
     "output_type": "display_data"
    },
    {
     "data": {
      "text/markdown": [
       "<span style=\"color:#33cc33\">Correct</span>"
      ],
      "text/plain": [
       "Correct"
      ]
     },
     "metadata": {},
     "output_type": "display_data"
    }
   ],
   "source": [
    "from sklearn.tree import DecisionTreeRegressor\n",
    "#specify the model. \n",
    "#For model reproducibility, set a numeric value for random_state when specifying the model\n",
    "iowa_model = DecisionTreeRegressor(random_state=1)\n",
    "\n",
    "# Fit the model\n",
    "iowa_model.fit(X,y)\n",
    "\n",
    "# Check your answer\n",
    "step_3.check()"
   ]
  },
  {
   "cell_type": "code",
   "execution_count": 9,
   "id": "aed2f329",
   "metadata": {
    "collapsed": true,
    "execution": {
     "iopub.execute_input": "2025-03-06T21:50:45.615901Z",
     "iopub.status.busy": "2025-03-06T21:50:45.615479Z",
     "iopub.status.idle": "2025-03-06T21:50:45.620445Z",
     "shell.execute_reply": "2025-03-06T21:50:45.618848Z"
    },
    "jupyter": {
     "outputs_hidden": true
    },
    "papermill": {
     "duration": 0.013724,
     "end_time": "2025-03-06T21:50:45.622737",
     "exception": false,
     "start_time": "2025-03-06T21:50:45.609013",
     "status": "completed"
    },
    "tags": []
   },
   "outputs": [],
   "source": [
    "# step_3.hint()\n",
    "# step_3.solution()"
   ]
  },
  {
   "cell_type": "markdown",
   "id": "3c2b840a",
   "metadata": {
    "papermill": {
     "duration": 0.005646,
     "end_time": "2025-03-06T21:50:45.635506",
     "exception": false,
     "start_time": "2025-03-06T21:50:45.629860",
     "status": "completed"
    },
    "tags": []
   },
   "source": [
    "## Step 4: Make Predictions\n",
    "Make predictions with the model's `predict` command using `X` as the data. Save the results to a variable called `predictions`."
   ]
  },
  {
   "cell_type": "code",
   "execution_count": 10,
   "id": "a8e2d244",
   "metadata": {
    "execution": {
     "iopub.execute_input": "2025-03-06T21:50:45.649932Z",
     "iopub.status.busy": "2025-03-06T21:50:45.649502Z",
     "iopub.status.idle": "2025-03-06T21:50:45.663839Z",
     "shell.execute_reply": "2025-03-06T21:50:45.662468Z"
    },
    "papermill": {
     "duration": 0.023359,
     "end_time": "2025-03-06T21:50:45.665678",
     "exception": false,
     "start_time": "2025-03-06T21:50:45.642319",
     "status": "completed"
    },
    "tags": []
   },
   "outputs": [
    {
     "name": "stdout",
     "output_type": "stream",
     "text": [
      "[208500. 181500. 223500. ... 266500. 142125. 147500.]\n"
     ]
    },
    {
     "data": {
      "application/javascript": [
       "parent.postMessage({\"jupyterEvent\": \"custom.exercise_interaction\", \"data\": {\"outcomeType\": 1, \"valueTowardsCompletion\": 0.25, \"interactionType\": 1, \"questionType\": 2, \"questionId\": \"4_MakePredictions\", \"learnToolsVersion\": \"0.3.4\", \"failureMessage\": \"\", \"exceptionClass\": \"\", \"trace\": \"\"}}, \"*\")"
      ],
      "text/plain": [
       "<IPython.core.display.Javascript object>"
      ]
     },
     "metadata": {},
     "output_type": "display_data"
    },
    {
     "data": {
      "text/markdown": [
       "<span style=\"color:#33cc33\">Correct</span>"
      ],
      "text/plain": [
       "Correct"
      ]
     },
     "metadata": {},
     "output_type": "display_data"
    }
   ],
   "source": [
    "predictions = iowa_model.predict(X)\n",
    "print(predictions)\n",
    "\n",
    "# Check your answer\n",
    "step_4.check()"
   ]
  },
  {
   "cell_type": "code",
   "execution_count": 11,
   "id": "fe758a05",
   "metadata": {
    "collapsed": true,
    "execution": {
     "iopub.execute_input": "2025-03-06T21:50:45.678855Z",
     "iopub.status.busy": "2025-03-06T21:50:45.678423Z",
     "iopub.status.idle": "2025-03-06T21:50:45.682642Z",
     "shell.execute_reply": "2025-03-06T21:50:45.681418Z"
    },
    "jupyter": {
     "outputs_hidden": true
    },
    "papermill": {
     "duration": 0.012949,
     "end_time": "2025-03-06T21:50:45.684696",
     "exception": false,
     "start_time": "2025-03-06T21:50:45.671747",
     "status": "completed"
    },
    "tags": []
   },
   "outputs": [],
   "source": [
    "# step_4.hint()\n",
    "# step_4.solution()"
   ]
  },
  {
   "cell_type": "markdown",
   "id": "7bec8752",
   "metadata": {
    "papermill": {
     "duration": 0.005804,
     "end_time": "2025-03-06T21:50:45.696872",
     "exception": false,
     "start_time": "2025-03-06T21:50:45.691068",
     "status": "completed"
    },
    "tags": []
   },
   "source": [
    "## Think About Your Results\n",
    "\n",
    "Use the `head` method to compare the top few predictions to the actual home values (in `y`) for those same homes. Anything surprising?\n"
   ]
  },
  {
   "cell_type": "code",
   "execution_count": 12,
   "id": "27628247",
   "metadata": {
    "execution": {
     "iopub.execute_input": "2025-03-06T21:50:45.710044Z",
     "iopub.status.busy": "2025-03-06T21:50:45.709688Z",
     "iopub.status.idle": "2025-03-06T21:50:45.718495Z",
     "shell.execute_reply": "2025-03-06T21:50:45.717138Z"
    },
    "papermill": {
     "duration": 0.017653,
     "end_time": "2025-03-06T21:50:45.720493",
     "exception": false,
     "start_time": "2025-03-06T21:50:45.702840",
     "status": "completed"
    },
    "tags": []
   },
   "outputs": [
    {
     "name": "stdout",
     "output_type": "stream",
     "text": [
      "[208500. 181500. 223500. 140000. 250000.]\n",
      "original prices\n",
      "0    208500\n",
      "1    181500\n",
      "2    223500\n",
      "3    140000\n",
      "4    250000\n",
      "Name: SalePrice, dtype: int64\n"
     ]
    }
   ],
   "source": [
    "# You can write code in this cell\n",
    "print(iowa_model.predict(X.head()))\n",
    "\n",
    "print(\"original prices\")\n",
    "print(home_data.SalePrice.head())\n"
   ]
  },
  {
   "cell_type": "markdown",
   "id": "ef0b949e",
   "metadata": {
    "papermill": {
     "duration": 0.006095,
     "end_time": "2025-03-06T21:50:45.732765",
     "exception": false,
     "start_time": "2025-03-06T21:50:45.726670",
     "status": "completed"
    },
    "tags": []
   },
   "source": [
    "It's natural to ask how accurate the model's predictions will be and how you can improve that. That will be you're next step.\n",
    "\n",
    "# Keep Going\n",
    "\n",
    "You are ready for **[Model Validation](https://www.kaggle.com/dansbecker/model-validation).**\n"
   ]
  },
  {
   "cell_type": "markdown",
   "id": "0729d99b",
   "metadata": {
    "papermill": {
     "duration": 0.005803,
     "end_time": "2025-03-06T21:50:45.745334",
     "exception": false,
     "start_time": "2025-03-06T21:50:45.739531",
     "status": "completed"
    },
    "tags": []
   },
   "source": [
    "---\n",
    "\n",
    "\n",
    "\n",
    "\n",
    "*Have questions or comments? Visit the [course discussion forum](https://www.kaggle.com/learn/intro-to-machine-learning/discussion) to chat with other learners.*"
   ]
  }
 ],
 "metadata": {
  "kaggle": {
   "accelerator": "none",
   "dataSources": [
    {
     "databundleVersionId": 111096,
     "sourceId": 10211,
     "sourceType": "competition"
    },
    {
     "datasetId": 11167,
     "sourceId": 15520,
     "sourceType": "datasetVersion"
    },
    {
     "datasetId": 2709,
     "sourceId": 38454,
     "sourceType": "datasetVersion"
    }
   ],
   "isGpuEnabled": false,
   "isInternetEnabled": false,
   "language": "python",
   "sourceType": "notebook"
  },
  "kernelspec": {
   "display_name": "Python 3",
   "language": "python",
   "name": "python3"
  },
  "language_info": {
   "codemirror_mode": {
    "name": "ipython",
    "version": 3
   },
   "file_extension": ".py",
   "mimetype": "text/x-python",
   "name": "python",
   "nbconvert_exporter": "python",
   "pygments_lexer": "ipython3",
   "version": "3.10.12"
  },
  "papermill": {
   "default_parameters": {},
   "duration": 7.545901,
   "end_time": "2025-03-06T21:50:46.472858",
   "environment_variables": {},
   "exception": null,
   "input_path": "__notebook__.ipynb",
   "output_path": "__notebook__.ipynb",
   "parameters": {},
   "start_time": "2025-03-06T21:50:38.926957",
   "version": "2.6.0"
  }
 },
 "nbformat": 4,
 "nbformat_minor": 5
}
